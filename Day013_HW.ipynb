{
 "cells": [
  {
   "cell_type": "markdown",
   "metadata": {},
   "source": [
    "# PTT 網路爬蟲實作練習\n",
    "\n",
    "\n",
    "* 能夠利用 Request + BeatifulSour 撰寫爬蟲，並存放到合適的資料結構\n"
   ]
  },
  {
   "cell_type": "markdown",
   "metadata": {},
   "source": [
    "## 作業目標\n",
    "\n",
    "根據範例 ，完成以下問題：\n",
    "\n",
    "* ① 印出最新文章的「作者」「標題」「時間」\n",
    "* ② 印出第一頁所有文章的「作者」「標題」「時間」\n"
   ]
  },
  {
   "cell_type": "markdown",
   "metadata": {},
   "source": [
    "### ① 印出最新文章的「作者」「標題」「時間」"
   ]
  },
  {
   "cell_type": "code",
   "execution_count": 26,
   "metadata": {},
   "outputs": [
    {
     "name": "stdout",
     "output_type": "stream",
     "text": [
      "標題: [新聞] 復賽預言5夠狂 快艇奪冠免搶7\n",
      "作者: laptic (靜夜聖林彼岸花)\n",
      "時間: Wed Jul 29 09:43:53 2020\n"
     ]
    }
   ],
   "source": [
    "import requests\n",
    "from bs4 import BeautifulSoup\n",
    "\n",
    "url = 'https://www.ptt.cc/bbs/NBA/index.html'\n",
    "r = requests.get(url)\n",
    "\n",
    "soup = BeautifulSoup(r.text, \"html5lib\")\n",
    "\n",
    "print('標題: '+soup.find(class_=\"title\").text.replace('\\t', '').replace('\\n', ''))\n",
    "\n",
    "rr = BeautifulSoup(requests.get('https://www.ptt.cc'+soup.find(class_=\"title\").find('a')['href']).text, \"html5lib\")\n",
    "\n",
    "#print( rr.find_all(class_='article-meta-value')[1])\n",
    "print('作者: ' + rr.find_all(class_='article-meta-value')[0].text)\n",
    "print('時間: ' + rr.find_all(class_='article-meta-value')[3].text)\n"
   ]
  },
  {
   "cell_type": "markdown",
   "metadata": {},
   "source": [
    "### ② 印出第一頁所有文章的「作者」「標題」「時間」"
   ]
  },
  {
   "cell_type": "code",
   "execution_count": 27,
   "metadata": {},
   "outputs": [
    {
     "name": "stdout",
     "output_type": "stream",
     "text": [
      "作者: laptic (靜夜聖林彼岸花)\n",
      "標題: [新聞] 復賽預言5夠狂 快艇奪冠免搶7\n",
      "時間: Wed Jul 29 09:43:53 2020\n",
      "----------------------------\n",
      "作者: Nadycruz (Nadycruz)\n",
      "標題: [討論] Dlo+Towns+Booker有搞頭嗎\n",
      "時間: Wed Jul 29 12:40:34 2020\n",
      "----------------------------\n",
      "作者: pneumo (超☆冒險蓋)\n",
      "標題: [花邊] 金塊MPJ認為武漢肺炎有陰謀:控制人口數目\n",
      "時間: Wed Jul 29 13:02:41 2020\n",
      "----------------------------\n",
      "作者: lovea (lovea)\n",
      "標題: [花邊] 防疫工作細節不馬虎 裁判哨子也藏玄機\n",
      "時間: Wed Jul 29 19:34:45 2020\n",
      "----------------------------\n",
      "作者: Vedan (味丹)\n",
      "標題: [公告] 第一次被退文，可在三天後刪除退文\n",
      "時間: Mon Mar  9 11:44:26 2020\n",
      "----------------------------\n",
      "作者: Acetoxy (阿斯)\n",
      "標題: [情報] SEASON Schedule 賽程 July 19–20\n",
      "時間: Tue Jul 21 19:43:39 2020\n",
      "----------------------------\n",
      "作者: kaikai1112 (骨髓捐贈match也是種緣份)\n",
      "標題: [情報] 復賽種子賽賽程(台灣時間)\n",
      "時間: Tue Jul 21 19:24:04 2020\n",
      "----------------------------\n",
      "作者: kaikai1112 (骨髓捐贈match也是種緣份)\n",
      "標題: [情報] 復賽熱身混戰賽程(台灣時間)\n",
      "時間: Tue Jul 21 18:52:35 2020\n",
      "----------------------------\n"
     ]
    }
   ],
   "source": [
    "for d in soup.find_all(class_=\"title\"):\n",
    "    r = BeautifulSoup(requests.get('https://www.ptt.cc'+d.find('a')['href']).text, \"html5lib\")\n",
    "    try:\n",
    "        \n",
    "        print('作者: ' + r.find(class_='article-meta-value').text)\n",
    "        print('標題: ' + r.find_all(class_='article-meta-value')[2].text)\n",
    "        print('時間: ' + r.find_all(class_='article-meta-value')[3].text)\n",
    "        print('----------------------------')\n",
    "    except:\n",
    "        continue"
   ]
  },
  {
   "cell_type": "markdown",
   "metadata": {},
   "source": [
    "### ③ 試著爬爬看其他版的文章"
   ]
  },
  {
   "cell_type": "code",
   "execution_count": 28,
   "metadata": {},
   "outputs": [
    {
     "name": "stdout",
     "output_type": "stream",
     "text": [
      "作者: openbestbook (吃蘿蔔不吐蘿蔔皮)\n",
      "標題: [問題] 有WEB版反而比文庫版好看的輕小說嗎?\n",
      "時間: Wed Jul 29 19:25:30 2020\n",
      "----------------------------\n",
      "作者: undeadmask (臭起司)\n",
      "標題: [輝夜] 早坂愛的本性\n",
      "時間: Wed Jul 29 19:25:31 2020\n",
      "----------------------------\n",
      "作者: LABOYS (洛城浪子)\n",
      "標題: Re: [閒聊] 遊戲王有什麼常見的抽爆方法\n",
      "時間: Wed Jul 29 19:26:25 2020\n",
      "----------------------------\n",
      "作者: kuoyipong (petohtalrayn)\n",
      "標題: [閒聊] 媽媽以前的高中\n",
      "時間: Wed Jul 29 19:31:50 2020\n",
      "----------------------------\n",
      "作者: owenbai (白根交)\n",
      "標題: [閒聊] 為什麼耶和華要殺死所有埃及人的長子\n",
      "時間: Wed Jul 29 19:33:44 2020\n",
      "----------------------------\n",
      "作者: ruby00514 (黑夜的星空)\n",
      "標題: [問題] 小櫻的故事是不是告訴了我們要早點找老師\n",
      "時間: Wed Jul 29 19:35:25 2020\n",
      "----------------------------\n",
      "作者: pl132 (pl132)\n",
      "標題: [閒聊]Ubisoft前創意總監砍企畫，亞瑟王奇幻遊\n",
      "時間: Wed Jul 29 19:36:35 2020\n",
      "----------------------------\n",
      "作者: fibula (廢廢)\n",
      "標題: [閒聊] 想入坑艦B有什麼該注意的嗎？\n",
      "時間: Wed Jul 29 19:37:33 2020\n",
      "----------------------------\n",
      "作者: BMotu (BMotu)\n",
      "標題: Re: [閒聊] 為什麼現在還會出像素風格遊戲？\n",
      "時間: Wed Jul 29 19:37:45 2020\n",
      "----------------------------\n",
      "作者: TED781120 (蒼夜歌)\n",
      "標題: Re: [閒聊] SD39消失的半鑽\n",
      "時間: Wed Jul 29 19:38:00 2020\n",
      "----------------------------\n",
      "作者: XXXXPOXXXX (彈跳甲魚湯)\n",
      "標題: [問題] 幽助的媽媽和靜流姐哪個比較婆？\n",
      "時間: Wed Jul 29 19:38:57 2020\n",
      "----------------------------\n",
      "作者: f222051618 (  珍  珠  奶  茶  )\n",
      "標題: [閒聊] 晚餐的撞奶\n",
      "時間: Wed Jul 29 19:42:41 2020\n",
      "----------------------------\n",
      "作者: soundbox (音樂盒盒)\n",
      "標題: [閒聊] 幻海跟比思吉哪個婆？\n",
      "時間: Wed Jul 29 19:43:12 2020\n",
      "----------------------------\n",
      "作者: Manaku (#w*)\n",
      "標題: [閒聊] 其實仙水打開魔界之門也沒什麼啊\n",
      "時間: Wed Jul 29 19:44:22 2020\n",
      "----------------------------\n",
      "作者: jschenlemn (sinra)\n",
      "標題: [公告] C_Chat板板規v.16.3.0+板務建議+好文補M\n",
      "時間: Sat Sep 14 01:23:34 2019\n",
      "----------------------------\n",
      "作者: jschenlemn (sinra)\n",
      "標題: [公告] 看板活動& 臨時板規與公告彙整& 閒聊區\n",
      "時間: Mon Dec 16 10:22:11 2019\n",
      "----------------------------\n",
      "作者: SaberTheBest (Saber最高!)\n",
      "標題: [20夏] 夏番各作品首播時間\n",
      "時間: Sun Jun 14 12:55:59 2020\n",
      "----------------------------\n",
      "作者: jschenlemn (sinra)\n",
      "標題: [公告] 2020夏番分項小板主招募中\n",
      "時間: Sun Jul  5 04:47:40 2020\n",
      "----------------------------\n"
     ]
    }
   ],
   "source": [
    "url = 'https://www.ptt.cc/bbs/C_Chat/index.html'\n",
    "r = requests.get(url)\n",
    "\n",
    "soup = BeautifulSoup(r.text, \"html5lib\")\n",
    "\n",
    "for d in soup.find_all(class_=\"title\"):\n",
    "    r = BeautifulSoup(requests.get('https://www.ptt.cc'+d.find('a')['href']).text, \"html5lib\")\n",
    "    try:\n",
    "        \n",
    "        print('作者: ' + r.find(class_='article-meta-value').text)\n",
    "        print('標題: ' + r.find_all(class_='article-meta-value')[2].text)\n",
    "        print('時間: ' + r.find_all(class_='article-meta-value')[3].text)\n",
    "        print('----------------------------')\n",
    "    except:\n",
    "        continue"
   ]
  },
  {
   "cell_type": "code",
   "execution_count": null,
   "metadata": {},
   "outputs": [],
   "source": []
  }
 ],
 "metadata": {
  "kernelspec": {
   "display_name": "Python 3",
   "language": "python",
   "name": "python3"
  },
  "language_info": {
   "codemirror_mode": {
    "name": "ipython",
    "version": 3
   },
   "file_extension": ".py",
   "mimetype": "text/x-python",
   "name": "python",
   "nbconvert_exporter": "python",
   "pygments_lexer": "ipython3",
   "version": "3.7.7"
  }
 },
 "nbformat": 4,
 "nbformat_minor": 2
}
